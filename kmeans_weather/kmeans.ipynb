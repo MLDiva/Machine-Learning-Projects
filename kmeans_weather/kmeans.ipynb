{
  "nbformat": 4,
  "nbformat_minor": 0,
  "metadata": {
    "kernelspec": {
      "display_name": "Python 3",
      "language": "python",
      "name": "python3"
    },
    "language_info": {
      "codemirror_mode": {
        "name": "ipython",
        "version": 3
      },
      "file_extension": ".py",
      "mimetype": "text/x-python",
      "name": "python",
      "nbconvert_exporter": "python",
      "pygments_lexer": "ipython3",
      "version": "3.6.0"
    },
    "colab": {
      "name": "kmeans.ipynb",
      "provenance": []
    }
  },
  "cells": [
    {
      "cell_type": "code",
      "metadata": {
        "id": "E2AP-pEHakF5",
        "colab_type": "code",
        "outputId": "3070c36d-3b34-4575-9e6d-c47e30017222",
        "colab": {
          "base_uri": "https://localhost:8080/",
          "height": 121
        }
      },
      "source": [
        "!git clone https://github.com/abhinavsagar/Machine-Learning-Projects.git"
      ],
      "execution_count": 0,
      "outputs": [
        {
          "output_type": "stream",
          "text": [
            "Cloning into 'Machine-Learning-Projects'...\n",
            "remote: Enumerating objects: 19, done.\u001b[K\n",
            "remote: Counting objects: 100% (19/19), done.\u001b[K\n",
            "remote: Compressing objects: 100% (17/17), done.\u001b[K\n",
            "remote: Total 19 (delta 6), reused 0 (delta 0), pack-reused 0\u001b[K\n",
            "Unpacking objects: 100% (19/19), done.\n"
          ],
          "name": "stdout"
        }
      ]
    },
    {
      "cell_type": "code",
      "metadata": {
        "id": "p0Yka0yaal6k",
        "colab_type": "code",
        "outputId": "8a71d0ca-a5f1-45a9-cdde-1ed369a7d249",
        "colab": {
          "base_uri": "https://localhost:8080/",
          "height": 35
        }
      },
      "source": [
        "%cd Machine-Learning-Projects"
      ],
      "execution_count": 0,
      "outputs": [
        {
          "output_type": "stream",
          "text": [
            "/content/Machine-Learning-Projects\n"
          ],
          "name": "stdout"
        }
      ]
    },
    {
      "cell_type": "code",
      "metadata": {
        "id": "gvzdx4TvaiKR",
        "colab_type": "code",
        "colab": {}
      },
      "source": [
        "from sklearn.preprocessing import StandardScaler\n",
        "from sklearn.cluster import KMeans\n",
        "import pandas as pd\n",
        "import numpy as np\n",
        "from itertools import cycle, islice\n",
        "import matplotlib.pyplot as plt\n",
        "\n",
        "%matplotlib inline"
      ],
      "execution_count": 0,
      "outputs": []
    },
    {
      "cell_type": "code",
      "metadata": {
        "id": "8KOjSGukaiKb",
        "colab_type": "code",
        "colab": {}
      },
      "source": [
        "data = pd.read_csv('kmeans_weather/minute_weather.csv')"
      ],
      "execution_count": 0,
      "outputs": []
    },
    {
      "cell_type": "code",
      "metadata": {
        "id": "TNtnR-7YaiKo",
        "colab_type": "code",
        "outputId": "97a2cc4c-36a6-4022-83aa-c649c99e8c94",
        "colab": {
          "base_uri": "https://localhost:8080/",
          "height": 35
        }
      },
      "source": [
        "data.shape"
      ],
      "execution_count": 0,
      "outputs": [
        {
          "output_type": "execute_result",
          "data": {
            "text/plain": [
              "(10407, 13)"
            ]
          },
          "metadata": {
            "tags": []
          },
          "execution_count": 29
        }
      ]
    },
    {
      "cell_type": "code",
      "metadata": {
        "id": "eXPqvDKtaiKt",
        "colab_type": "code",
        "outputId": "2841ad84-3e39-4b8b-e53a-db107753d41a",
        "colab": {
          "base_uri": "https://localhost:8080/",
          "height": 222
        }
      },
      "source": [
        "data.head()"
      ],
      "execution_count": 0,
      "outputs": [
        {
          "output_type": "execute_result",
          "data": {
            "text/html": [
              "<div>\n",
              "<style scoped>\n",
              "    .dataframe tbody tr th:only-of-type {\n",
              "        vertical-align: middle;\n",
              "    }\n",
              "\n",
              "    .dataframe tbody tr th {\n",
              "        vertical-align: top;\n",
              "    }\n",
              "\n",
              "    .dataframe thead th {\n",
              "        text-align: right;\n",
              "    }\n",
              "</style>\n",
              "<table border=\"1\" class=\"dataframe\">\n",
              "  <thead>\n",
              "    <tr style=\"text-align: right;\">\n",
              "      <th></th>\n",
              "      <th>rowID</th>\n",
              "      <th>hpwren_timestamp</th>\n",
              "      <th>air_pressure</th>\n",
              "      <th>air_temp</th>\n",
              "      <th>avg_wind_direction</th>\n",
              "      <th>avg_wind_speed</th>\n",
              "      <th>max_wind_direction</th>\n",
              "      <th>max_wind_speed</th>\n",
              "      <th>min_wind_direction</th>\n",
              "      <th>min_wind_speed</th>\n",
              "      <th>rain_accumulation</th>\n",
              "      <th>rain_duration</th>\n",
              "      <th>relative_humidity</th>\n",
              "    </tr>\n",
              "  </thead>\n",
              "  <tbody>\n",
              "    <tr>\n",
              "      <th>0</th>\n",
              "      <td>0</td>\n",
              "      <td>2011-09-10 00:00:49</td>\n",
              "      <td>912.3</td>\n",
              "      <td>64.76</td>\n",
              "      <td>97</td>\n",
              "      <td>1.2</td>\n",
              "      <td>106</td>\n",
              "      <td>1.6</td>\n",
              "      <td>85</td>\n",
              "      <td>1.0</td>\n",
              "      <td>NaN</td>\n",
              "      <td>NaN</td>\n",
              "      <td>60.5</td>\n",
              "    </tr>\n",
              "    <tr>\n",
              "      <th>1</th>\n",
              "      <td>1</td>\n",
              "      <td>2011-09-10 00:01:49</td>\n",
              "      <td>912.3</td>\n",
              "      <td>63.86</td>\n",
              "      <td>161</td>\n",
              "      <td>0.8</td>\n",
              "      <td>215</td>\n",
              "      <td>1.5</td>\n",
              "      <td>43</td>\n",
              "      <td>0.2</td>\n",
              "      <td>0.0</td>\n",
              "      <td>0.0</td>\n",
              "      <td>39.9</td>\n",
              "    </tr>\n",
              "    <tr>\n",
              "      <th>2</th>\n",
              "      <td>2</td>\n",
              "      <td>2011-09-10 00:02:49</td>\n",
              "      <td>912.3</td>\n",
              "      <td>64.22</td>\n",
              "      <td>77</td>\n",
              "      <td>0.7</td>\n",
              "      <td>143</td>\n",
              "      <td>1.2</td>\n",
              "      <td>324</td>\n",
              "      <td>0.3</td>\n",
              "      <td>0.0</td>\n",
              "      <td>0.0</td>\n",
              "      <td>43.0</td>\n",
              "    </tr>\n",
              "    <tr>\n",
              "      <th>3</th>\n",
              "      <td>3</td>\n",
              "      <td>2011-09-10 00:03:49</td>\n",
              "      <td>912.3</td>\n",
              "      <td>64.40</td>\n",
              "      <td>89</td>\n",
              "      <td>1.2</td>\n",
              "      <td>112</td>\n",
              "      <td>1.6</td>\n",
              "      <td>12</td>\n",
              "      <td>0.7</td>\n",
              "      <td>0.0</td>\n",
              "      <td>0.0</td>\n",
              "      <td>49.5</td>\n",
              "    </tr>\n",
              "    <tr>\n",
              "      <th>4</th>\n",
              "      <td>4</td>\n",
              "      <td>2011-09-10 00:04:49</td>\n",
              "      <td>912.3</td>\n",
              "      <td>64.40</td>\n",
              "      <td>185</td>\n",
              "      <td>0.4</td>\n",
              "      <td>260</td>\n",
              "      <td>1.0</td>\n",
              "      <td>100</td>\n",
              "      <td>0.1</td>\n",
              "      <td>0.0</td>\n",
              "      <td>0.0</td>\n",
              "      <td>58.8</td>\n",
              "    </tr>\n",
              "  </tbody>\n",
              "</table>\n",
              "</div>"
            ],
            "text/plain": [
              "   rowID     hpwren_timestamp  ...  rain_duration  relative_humidity\n",
              "0      0  2011-09-10 00:00:49  ...            NaN               60.5\n",
              "1      1  2011-09-10 00:01:49  ...            0.0               39.9\n",
              "2      2  2011-09-10 00:02:49  ...            0.0               43.0\n",
              "3      3  2011-09-10 00:03:49  ...            0.0               49.5\n",
              "4      4  2011-09-10 00:04:49  ...            0.0               58.8\n",
              "\n",
              "[5 rows x 13 columns]"
            ]
          },
          "metadata": {
            "tags": []
          },
          "execution_count": 30
        }
      ]
    },
    {
      "cell_type": "code",
      "metadata": {
        "id": "6zzatws5aiK1",
        "colab_type": "code",
        "outputId": "5a9412cf-709e-4d31-8db3-6fbe68cf03aa",
        "colab": {
          "base_uri": "https://localhost:8080/",
          "height": 35
        }
      },
      "source": [
        "sampled_df = data[(data['rowID'] % 10) == 0]\n",
        "sampled_df.shape"
      ],
      "execution_count": 0,
      "outputs": [
        {
          "output_type": "execute_result",
          "data": {
            "text/plain": [
              "(1041, 13)"
            ]
          },
          "metadata": {
            "tags": []
          },
          "execution_count": 31
        }
      ]
    },
    {
      "cell_type": "code",
      "metadata": {
        "id": "lBexa5A3aiK_",
        "colab_type": "code",
        "outputId": "8290cd5a-5230-439b-a7fb-fccb56f72a7c",
        "colab": {
          "base_uri": "https://localhost:8080/",
          "height": 417
        }
      },
      "source": [
        "sampled_df.describe().transpose()"
      ],
      "execution_count": 0,
      "outputs": [
        {
          "output_type": "execute_result",
          "data": {
            "text/html": [
              "<div>\n",
              "<style scoped>\n",
              "    .dataframe tbody tr th:only-of-type {\n",
              "        vertical-align: middle;\n",
              "    }\n",
              "\n",
              "    .dataframe tbody tr th {\n",
              "        vertical-align: top;\n",
              "    }\n",
              "\n",
              "    .dataframe thead th {\n",
              "        text-align: right;\n",
              "    }\n",
              "</style>\n",
              "<table border=\"1\" class=\"dataframe\">\n",
              "  <thead>\n",
              "    <tr style=\"text-align: right;\">\n",
              "      <th></th>\n",
              "      <th>count</th>\n",
              "      <th>mean</th>\n",
              "      <th>std</th>\n",
              "      <th>min</th>\n",
              "      <th>25%</th>\n",
              "      <th>50%</th>\n",
              "      <th>75%</th>\n",
              "      <th>max</th>\n",
              "    </tr>\n",
              "  </thead>\n",
              "  <tbody>\n",
              "    <tr>\n",
              "      <th>rowID</th>\n",
              "      <td>1041.0</td>\n",
              "      <td>5200.000000</td>\n",
              "      <td>3006.551180</td>\n",
              "      <td>0.00</td>\n",
              "      <td>2600.00</td>\n",
              "      <td>5200.00</td>\n",
              "      <td>7800.00</td>\n",
              "      <td>10400.00</td>\n",
              "    </tr>\n",
              "    <tr>\n",
              "      <th>air_pressure</th>\n",
              "      <td>1041.0</td>\n",
              "      <td>916.065610</td>\n",
              "      <td>2.099869</td>\n",
              "      <td>911.30</td>\n",
              "      <td>914.50</td>\n",
              "      <td>916.10</td>\n",
              "      <td>917.90</td>\n",
              "      <td>920.10</td>\n",
              "    </tr>\n",
              "    <tr>\n",
              "      <th>air_temp</th>\n",
              "      <td>1041.0</td>\n",
              "      <td>65.295159</td>\n",
              "      <td>6.561400</td>\n",
              "      <td>52.16</td>\n",
              "      <td>61.16</td>\n",
              "      <td>66.38</td>\n",
              "      <td>70.34</td>\n",
              "      <td>78.26</td>\n",
              "    </tr>\n",
              "    <tr>\n",
              "      <th>avg_wind_direction</th>\n",
              "      <td>1041.0</td>\n",
              "      <td>156.962536</td>\n",
              "      <td>82.338137</td>\n",
              "      <td>0.00</td>\n",
              "      <td>88.00</td>\n",
              "      <td>179.00</td>\n",
              "      <td>209.00</td>\n",
              "      <td>359.00</td>\n",
              "    </tr>\n",
              "    <tr>\n",
              "      <th>avg_wind_speed</th>\n",
              "      <td>1041.0</td>\n",
              "      <td>1.932085</td>\n",
              "      <td>1.419760</td>\n",
              "      <td>0.10</td>\n",
              "      <td>0.90</td>\n",
              "      <td>1.50</td>\n",
              "      <td>2.60</td>\n",
              "      <td>7.20</td>\n",
              "    </tr>\n",
              "    <tr>\n",
              "      <th>max_wind_direction</th>\n",
              "      <td>1041.0</td>\n",
              "      <td>164.468780</td>\n",
              "      <td>80.379229</td>\n",
              "      <td>0.00</td>\n",
              "      <td>94.00</td>\n",
              "      <td>191.00</td>\n",
              "      <td>219.00</td>\n",
              "      <td>358.00</td>\n",
              "    </tr>\n",
              "    <tr>\n",
              "      <th>max_wind_speed</th>\n",
              "      <td>1041.0</td>\n",
              "      <td>2.370893</td>\n",
              "      <td>1.624224</td>\n",
              "      <td>0.20</td>\n",
              "      <td>1.10</td>\n",
              "      <td>1.90</td>\n",
              "      <td>3.20</td>\n",
              "      <td>8.00</td>\n",
              "    </tr>\n",
              "    <tr>\n",
              "      <th>min_wind_direction</th>\n",
              "      <td>1041.0</td>\n",
              "      <td>154.270893</td>\n",
              "      <td>86.834533</td>\n",
              "      <td>0.00</td>\n",
              "      <td>84.00</td>\n",
              "      <td>173.00</td>\n",
              "      <td>201.00</td>\n",
              "      <td>359.00</td>\n",
              "    </tr>\n",
              "    <tr>\n",
              "      <th>min_wind_speed</th>\n",
              "      <td>1041.0</td>\n",
              "      <td>1.481364</td>\n",
              "      <td>1.235990</td>\n",
              "      <td>0.00</td>\n",
              "      <td>0.60</td>\n",
              "      <td>1.10</td>\n",
              "      <td>2.00</td>\n",
              "      <td>6.50</td>\n",
              "    </tr>\n",
              "    <tr>\n",
              "      <th>rain_accumulation</th>\n",
              "      <td>1040.0</td>\n",
              "      <td>0.000000</td>\n",
              "      <td>0.000000</td>\n",
              "      <td>0.00</td>\n",
              "      <td>0.00</td>\n",
              "      <td>0.00</td>\n",
              "      <td>0.00</td>\n",
              "      <td>0.00</td>\n",
              "    </tr>\n",
              "    <tr>\n",
              "      <th>rain_duration</th>\n",
              "      <td>1040.0</td>\n",
              "      <td>0.000000</td>\n",
              "      <td>0.000000</td>\n",
              "      <td>0.00</td>\n",
              "      <td>0.00</td>\n",
              "      <td>0.00</td>\n",
              "      <td>0.00</td>\n",
              "      <td>0.00</td>\n",
              "    </tr>\n",
              "    <tr>\n",
              "      <th>relative_humidity</th>\n",
              "      <td>1041.0</td>\n",
              "      <td>58.888473</td>\n",
              "      <td>19.981671</td>\n",
              "      <td>18.80</td>\n",
              "      <td>48.00</td>\n",
              "      <td>58.70</td>\n",
              "      <td>72.10</td>\n",
              "      <td>91.80</td>\n",
              "    </tr>\n",
              "  </tbody>\n",
              "</table>\n",
              "</div>"
            ],
            "text/plain": [
              "                     count         mean  ...      75%       max\n",
              "rowID               1041.0  5200.000000  ...  7800.00  10400.00\n",
              "air_pressure        1041.0   916.065610  ...   917.90    920.10\n",
              "air_temp            1041.0    65.295159  ...    70.34     78.26\n",
              "avg_wind_direction  1041.0   156.962536  ...   209.00    359.00\n",
              "avg_wind_speed      1041.0     1.932085  ...     2.60      7.20\n",
              "max_wind_direction  1041.0   164.468780  ...   219.00    358.00\n",
              "max_wind_speed      1041.0     2.370893  ...     3.20      8.00\n",
              "min_wind_direction  1041.0   154.270893  ...   201.00    359.00\n",
              "min_wind_speed      1041.0     1.481364  ...     2.00      6.50\n",
              "rain_accumulation   1040.0     0.000000  ...     0.00      0.00\n",
              "rain_duration       1040.0     0.000000  ...     0.00      0.00\n",
              "relative_humidity   1041.0    58.888473  ...    72.10     91.80\n",
              "\n",
              "[12 rows x 8 columns]"
            ]
          },
          "metadata": {
            "tags": []
          },
          "execution_count": 32
        }
      ]
    },
    {
      "cell_type": "code",
      "metadata": {
        "id": "mx_idAPpaiLH",
        "colab_type": "code",
        "outputId": "3caa0bd5-f75e-4f42-d180-9d5d33ee6cbf",
        "colab": {
          "base_uri": "https://localhost:8080/",
          "height": 35
        }
      },
      "source": [
        "sampled_df[sampled_df['rain_accumulation'] == 0].shape"
      ],
      "execution_count": 0,
      "outputs": [
        {
          "output_type": "execute_result",
          "data": {
            "text/plain": [
              "(1040, 13)"
            ]
          },
          "metadata": {
            "tags": []
          },
          "execution_count": 33
        }
      ]
    },
    {
      "cell_type": "code",
      "metadata": {
        "id": "_KcakuwNaiLN",
        "colab_type": "code",
        "outputId": "1e2af4a2-705e-46bd-dfaf-4c7378a636b2",
        "colab": {
          "base_uri": "https://localhost:8080/",
          "height": 35
        }
      },
      "source": [
        "sampled_df[sampled_df['rain_duration'] == 0].shape"
      ],
      "execution_count": 0,
      "outputs": [
        {
          "output_type": "execute_result",
          "data": {
            "text/plain": [
              "(1040, 13)"
            ]
          },
          "metadata": {
            "tags": []
          },
          "execution_count": 34
        }
      ]
    },
    {
      "cell_type": "code",
      "metadata": {
        "id": "J0a4sfCcaiLT",
        "colab_type": "code",
        "colab": {}
      },
      "source": [
        "del sampled_df['rain_accumulation']\n",
        "del sampled_df['rain_duration']"
      ],
      "execution_count": 0,
      "outputs": []
    },
    {
      "cell_type": "code",
      "metadata": {
        "id": "l8IQ7WZSaiLW",
        "colab_type": "code",
        "colab": {}
      },
      "source": [
        "rows_before = sampled_df.shape[0]\n",
        "sampled_df = sampled_df.dropna()\n",
        "rows_after = sampled_df.shape[0]"
      ],
      "execution_count": 0,
      "outputs": []
    },
    {
      "cell_type": "code",
      "metadata": {
        "id": "i5D8WFwlaiLc",
        "colab_type": "code",
        "outputId": "5ffa19c8-b851-4fcd-ef30-36f7aa4166c3",
        "colab": {
          "base_uri": "https://localhost:8080/",
          "height": 35
        }
      },
      "source": [
        "rows_before - rows_after"
      ],
      "execution_count": 0,
      "outputs": [
        {
          "output_type": "execute_result",
          "data": {
            "text/plain": [
              "0"
            ]
          },
          "metadata": {
            "tags": []
          },
          "execution_count": 37
        }
      ]
    },
    {
      "cell_type": "code",
      "metadata": {
        "id": "teI9eB3yaiLj",
        "colab_type": "code",
        "outputId": "d5bca5bf-ba60-492c-8780-352ff82d3313",
        "colab": {
          "base_uri": "https://localhost:8080/",
          "height": 104
        }
      },
      "source": [
        "sampled_df.columns"
      ],
      "execution_count": 0,
      "outputs": [
        {
          "output_type": "execute_result",
          "data": {
            "text/plain": [
              "Index(['rowID', 'hpwren_timestamp', 'air_pressure', 'air_temp',\n",
              "       'avg_wind_direction', 'avg_wind_speed', 'max_wind_direction',\n",
              "       'max_wind_speed', 'min_wind_direction', 'min_wind_speed',\n",
              "       'relative_humidity'],\n",
              "      dtype='object')"
            ]
          },
          "metadata": {
            "tags": []
          },
          "execution_count": 38
        }
      ]
    },
    {
      "cell_type": "code",
      "metadata": {
        "id": "O6-4VW2naiLv",
        "colab_type": "code",
        "colab": {}
      },
      "source": [
        "features = ['air_pressure', 'air_temp', 'avg_wind_direction', 'avg_wind_speed', 'max_wind_direction', \n",
        "        'max_wind_speed','relative_humidity']"
      ],
      "execution_count": 0,
      "outputs": []
    },
    {
      "cell_type": "code",
      "metadata": {
        "id": "KWyaVIibaiL0",
        "colab_type": "code",
        "colab": {}
      },
      "source": [
        "select_df = sampled_df[features]"
      ],
      "execution_count": 0,
      "outputs": []
    },
    {
      "cell_type": "code",
      "metadata": {
        "id": "FkDWnIg_aiL-",
        "colab_type": "code",
        "outputId": "854938ab-59fc-4483-df5b-762f1e5b9963",
        "colab": {
          "base_uri": "https://localhost:8080/",
          "height": 69
        }
      },
      "source": [
        "select_df.columns"
      ],
      "execution_count": 0,
      "outputs": [
        {
          "output_type": "execute_result",
          "data": {
            "text/plain": [
              "Index(['air_pressure', 'air_temp', 'avg_wind_direction', 'avg_wind_speed',\n",
              "       'max_wind_direction', 'max_wind_speed', 'relative_humidity'],\n",
              "      dtype='object')"
            ]
          },
          "metadata": {
            "tags": []
          },
          "execution_count": 41
        }
      ]
    },
    {
      "cell_type": "code",
      "metadata": {
        "id": "fS3qZg5zaiMF",
        "colab_type": "code",
        "outputId": "a85e3f0a-58f1-4738-ab3f-895c9cd24ebe",
        "colab": {
          "base_uri": "https://localhost:8080/",
          "height": 415
        }
      },
      "source": [
        "select_df"
      ],
      "execution_count": 0,
      "outputs": [
        {
          "output_type": "execute_result",
          "data": {
            "text/html": [
              "<div>\n",
              "<style scoped>\n",
              "    .dataframe tbody tr th:only-of-type {\n",
              "        vertical-align: middle;\n",
              "    }\n",
              "\n",
              "    .dataframe tbody tr th {\n",
              "        vertical-align: top;\n",
              "    }\n",
              "\n",
              "    .dataframe thead th {\n",
              "        text-align: right;\n",
              "    }\n",
              "</style>\n",
              "<table border=\"1\" class=\"dataframe\">\n",
              "  <thead>\n",
              "    <tr style=\"text-align: right;\">\n",
              "      <th></th>\n",
              "      <th>air_pressure</th>\n",
              "      <th>air_temp</th>\n",
              "      <th>avg_wind_direction</th>\n",
              "      <th>avg_wind_speed</th>\n",
              "      <th>max_wind_direction</th>\n",
              "      <th>max_wind_speed</th>\n",
              "      <th>relative_humidity</th>\n",
              "    </tr>\n",
              "  </thead>\n",
              "  <tbody>\n",
              "    <tr>\n",
              "      <th>0</th>\n",
              "      <td>912.3</td>\n",
              "      <td>64.76</td>\n",
              "      <td>97</td>\n",
              "      <td>1.2</td>\n",
              "      <td>106</td>\n",
              "      <td>1.6</td>\n",
              "      <td>60.5</td>\n",
              "    </tr>\n",
              "    <tr>\n",
              "      <th>10</th>\n",
              "      <td>912.3</td>\n",
              "      <td>62.24</td>\n",
              "      <td>144</td>\n",
              "      <td>1.2</td>\n",
              "      <td>167</td>\n",
              "      <td>1.8</td>\n",
              "      <td>38.5</td>\n",
              "    </tr>\n",
              "    <tr>\n",
              "      <th>20</th>\n",
              "      <td>912.2</td>\n",
              "      <td>63.32</td>\n",
              "      <td>100</td>\n",
              "      <td>2.0</td>\n",
              "      <td>122</td>\n",
              "      <td>2.5</td>\n",
              "      <td>58.3</td>\n",
              "    </tr>\n",
              "    <tr>\n",
              "      <th>30</th>\n",
              "      <td>912.2</td>\n",
              "      <td>62.60</td>\n",
              "      <td>91</td>\n",
              "      <td>2.0</td>\n",
              "      <td>103</td>\n",
              "      <td>2.4</td>\n",
              "      <td>57.9</td>\n",
              "    </tr>\n",
              "    <tr>\n",
              "      <th>40</th>\n",
              "      <td>912.2</td>\n",
              "      <td>64.04</td>\n",
              "      <td>81</td>\n",
              "      <td>2.6</td>\n",
              "      <td>88</td>\n",
              "      <td>2.9</td>\n",
              "      <td>57.4</td>\n",
              "    </tr>\n",
              "    <tr>\n",
              "      <th>...</th>\n",
              "      <td>...</td>\n",
              "      <td>...</td>\n",
              "      <td>...</td>\n",
              "      <td>...</td>\n",
              "      <td>...</td>\n",
              "      <td>...</td>\n",
              "      <td>...</td>\n",
              "    </tr>\n",
              "    <tr>\n",
              "      <th>10360</th>\n",
              "      <td>916.0</td>\n",
              "      <td>52.70</td>\n",
              "      <td>39</td>\n",
              "      <td>1.3</td>\n",
              "      <td>55</td>\n",
              "      <td>1.6</td>\n",
              "      <td>91.8</td>\n",
              "    </tr>\n",
              "    <tr>\n",
              "      <th>10370</th>\n",
              "      <td>916.1</td>\n",
              "      <td>52.88</td>\n",
              "      <td>10</td>\n",
              "      <td>0.9</td>\n",
              "      <td>27</td>\n",
              "      <td>1.2</td>\n",
              "      <td>91.8</td>\n",
              "    </tr>\n",
              "    <tr>\n",
              "      <th>10380</th>\n",
              "      <td>916.2</td>\n",
              "      <td>52.70</td>\n",
              "      <td>358</td>\n",
              "      <td>0.3</td>\n",
              "      <td>27</td>\n",
              "      <td>0.5</td>\n",
              "      <td>91.7</td>\n",
              "    </tr>\n",
              "    <tr>\n",
              "      <th>10390</th>\n",
              "      <td>916.2</td>\n",
              "      <td>52.70</td>\n",
              "      <td>32</td>\n",
              "      <td>1.3</td>\n",
              "      <td>43</td>\n",
              "      <td>1.6</td>\n",
              "      <td>91.8</td>\n",
              "    </tr>\n",
              "    <tr>\n",
              "      <th>10400</th>\n",
              "      <td>916.2</td>\n",
              "      <td>52.34</td>\n",
              "      <td>58</td>\n",
              "      <td>0.8</td>\n",
              "      <td>78</td>\n",
              "      <td>1.0</td>\n",
              "      <td>91.7</td>\n",
              "    </tr>\n",
              "  </tbody>\n",
              "</table>\n",
              "<p>1041 rows × 7 columns</p>\n",
              "</div>"
            ],
            "text/plain": [
              "       air_pressure  air_temp  ...  max_wind_speed  relative_humidity\n",
              "0             912.3     64.76  ...             1.6               60.5\n",
              "10            912.3     62.24  ...             1.8               38.5\n",
              "20            912.2     63.32  ...             2.5               58.3\n",
              "30            912.2     62.60  ...             2.4               57.9\n",
              "40            912.2     64.04  ...             2.9               57.4\n",
              "...             ...       ...  ...             ...                ...\n",
              "10360         916.0     52.70  ...             1.6               91.8\n",
              "10370         916.1     52.88  ...             1.2               91.8\n",
              "10380         916.2     52.70  ...             0.5               91.7\n",
              "10390         916.2     52.70  ...             1.6               91.8\n",
              "10400         916.2     52.34  ...             1.0               91.7\n",
              "\n",
              "[1041 rows x 7 columns]"
            ]
          },
          "metadata": {
            "tags": []
          },
          "execution_count": 42
        }
      ]
    },
    {
      "cell_type": "code",
      "metadata": {
        "id": "0VZ_6B-FaiMJ",
        "colab_type": "code",
        "outputId": "a2f0aeb1-858e-4434-c7e6-1d3df619dd51",
        "colab": {
          "base_uri": "https://localhost:8080/",
          "height": 243
        }
      },
      "source": [
        "X = StandardScaler().fit_transform(select_df)\n",
        "X"
      ],
      "execution_count": 0,
      "outputs": [
        {
          "output_type": "execute_result",
          "data": {
            "text/plain": [
              "array([[-1.79412122, -0.08160083, -0.72859746, ..., -0.72776119,\n",
              "        -0.47485067,  0.08068904],\n",
              "       [-1.79412122, -0.46584979, -0.15750619, ...,  0.03150611,\n",
              "        -0.35165577, -1.02084916],\n",
              "       [-1.84176612, -0.30117166, -0.69214482, ..., -0.52860911,\n",
              "         0.07952639, -0.02946478],\n",
              "       ...,\n",
              "       [ 0.06402999, -1.92050655,  2.44278169, ..., -1.71107458,\n",
              "        -1.15242264,  1.64287049],\n",
              "       [ 0.06402999, -1.92050655, -1.51840453, ..., -1.5119225 ,\n",
              "        -0.47485067,  1.64787748],\n",
              "       [ 0.06402999, -1.97539926, -1.2024817 , ..., -1.07627733,\n",
              "        -0.84443538,  1.64287049]])"
            ]
          },
          "metadata": {
            "tags": []
          },
          "execution_count": 43
        }
      ]
    },
    {
      "cell_type": "code",
      "metadata": {
        "id": "PYdu57PaaiMU",
        "colab_type": "code",
        "outputId": "7d736a8a-9d9a-4537-f61e-1f3ed463dd8b",
        "colab": {
          "base_uri": "https://localhost:8080/",
          "height": 87
        }
      },
      "source": [
        "kmeans = KMeans(n_clusters=12)\n",
        "model = kmeans.fit(X)\n",
        "print(\"model\\n\", model)"
      ],
      "execution_count": 0,
      "outputs": [
        {
          "output_type": "stream",
          "text": [
            "model\n",
            " KMeans(algorithm='auto', copy_x=True, init='k-means++', max_iter=300,\n",
            "       n_clusters=12, n_init=10, n_jobs=None, precompute_distances='auto',\n",
            "       random_state=None, tol=0.0001, verbose=0)\n"
          ],
          "name": "stdout"
        }
      ]
    },
    {
      "cell_type": "code",
      "metadata": {
        "id": "T3zdDRd9aiMc",
        "colab_type": "code",
        "outputId": "6c328362-b17e-4f81-afd2-3158701cf886",
        "colab": {
          "base_uri": "https://localhost:8080/",
          "height": 433
        }
      },
      "source": [
        "centers = model.cluster_centers_\n",
        "centers"
      ],
      "execution_count": 0,
      "outputs": [
        {
          "output_type": "execute_result",
          "data": {
            "text/plain": [
              "array([[-0.38498712, -1.61319056, -0.99775782, -0.68351641, -0.81771909,\n",
              "        -0.69230834,  1.48590888],\n",
              "       [-0.30037498,  0.1669244 ,  0.60065518,  0.73782844,  0.66124249,\n",
              "         0.7381453 ,  0.18809177],\n",
              "       [ 1.03620423,  0.77049323,  0.18819092, -0.48038424,  0.45926501,\n",
              "        -0.42124678, -0.90393016],\n",
              "       [ 0.49872833,  0.25284855, -1.31785241, -0.19187857, -1.24296454,\n",
              "        -0.21322026, -0.06255222],\n",
              "       [-0.53372354, -1.52884876,  0.4501868 , -0.45838868,  0.5245755 ,\n",
              "        -0.48089705,  1.36650297],\n",
              "       [ 1.29969018,  1.19584795,  0.46615083,  1.65407594,  0.5295216 ,\n",
              "         1.7178847 , -0.96479262],\n",
              "       [-0.98004041,  0.2375901 ,  0.27227486, -0.75165156,  0.36649957,\n",
              "        -0.76382637, -0.25453215],\n",
              "       [-0.68637723, -0.30737977,  0.57140183,  1.88674525,  0.60866187,\n",
              "         1.86145268,  0.49352744],\n",
              "       [-0.05243533,  0.62895478,  2.22406589, -0.73512197, -1.81203362,\n",
              "        -0.65051748, -0.52348797],\n",
              "       [-0.3618571 ,  0.71042253,  1.64107172, -0.54608803,  1.87721912,\n",
              "        -0.47359358, -0.51831067],\n",
              "       [-1.02572044, -0.03313174, -1.2774552 , -0.4386721 , -1.15969874,\n",
              "        -0.464366  , -0.14318741],\n",
              "       [ 1.34322344,  0.95304354, -1.39892089, -0.41979424, -1.43761765,\n",
              "        -0.53551483, -1.40198744]])"
            ]
          },
          "metadata": {
            "tags": []
          },
          "execution_count": 45
        }
      ]
    },
    {
      "cell_type": "code",
      "metadata": {
        "id": "XcGC6tpdaiMo",
        "colab_type": "code",
        "colab": {}
      },
      "source": [
        "def pd_centers(featuresUsed, centers):\n",
        "\tcolNames = list(featuresUsed)\n",
        "\tcolNames.append('prediction')\n",
        "\tZ = [np.append(A, index) for index, A in enumerate(centers)]\n",
        "\n",
        "\tP = pd.DataFrame(Z, columns=colNames)\n",
        "\tP['prediction'] = P['prediction'].astype(int)\n",
        "\treturn P"
      ],
      "execution_count": 0,
      "outputs": []
    },
    {
      "cell_type": "code",
      "metadata": {
        "id": "Wq2-hZ1caiMs",
        "colab_type": "code",
        "colab": {}
      },
      "source": [
        "def parallel_plot(data):\n",
        "\tmy_colors = list(islice(cycle(['b', 'r', 'g', 'y', 'k']), None, len(data)))\n",
        "\tplt.figure(figsize=(15,8)).gca().axes.set_ylim([-3,+3])\n",
        "\tparallel_coordinates(data, 'prediction', color = my_colors, marker='o')"
      ],
      "execution_count": 0,
      "outputs": []
    },
    {
      "cell_type": "code",
      "metadata": {
        "id": "sPpEakqhaiM0",
        "colab_type": "code",
        "outputId": "efcc0c8f-ad51-4765-d480-8346b06dae2f",
        "colab": {
          "base_uri": "https://localhost:8080/",
          "height": 417
        }
      },
      "source": [
        "P = pd_centers(features, centers)\n",
        "P"
      ],
      "execution_count": 0,
      "outputs": [
        {
          "output_type": "execute_result",
          "data": {
            "text/html": [
              "<div>\n",
              "<style scoped>\n",
              "    .dataframe tbody tr th:only-of-type {\n",
              "        vertical-align: middle;\n",
              "    }\n",
              "\n",
              "    .dataframe tbody tr th {\n",
              "        vertical-align: top;\n",
              "    }\n",
              "\n",
              "    .dataframe thead th {\n",
              "        text-align: right;\n",
              "    }\n",
              "</style>\n",
              "<table border=\"1\" class=\"dataframe\">\n",
              "  <thead>\n",
              "    <tr style=\"text-align: right;\">\n",
              "      <th></th>\n",
              "      <th>air_pressure</th>\n",
              "      <th>air_temp</th>\n",
              "      <th>avg_wind_direction</th>\n",
              "      <th>avg_wind_speed</th>\n",
              "      <th>max_wind_direction</th>\n",
              "      <th>max_wind_speed</th>\n",
              "      <th>relative_humidity</th>\n",
              "      <th>prediction</th>\n",
              "    </tr>\n",
              "  </thead>\n",
              "  <tbody>\n",
              "    <tr>\n",
              "      <th>0</th>\n",
              "      <td>-0.384987</td>\n",
              "      <td>-1.613191</td>\n",
              "      <td>-0.997758</td>\n",
              "      <td>-0.683516</td>\n",
              "      <td>-0.817719</td>\n",
              "      <td>-0.692308</td>\n",
              "      <td>1.485909</td>\n",
              "      <td>0</td>\n",
              "    </tr>\n",
              "    <tr>\n",
              "      <th>1</th>\n",
              "      <td>-0.300375</td>\n",
              "      <td>0.166924</td>\n",
              "      <td>0.600655</td>\n",
              "      <td>0.737828</td>\n",
              "      <td>0.661242</td>\n",
              "      <td>0.738145</td>\n",
              "      <td>0.188092</td>\n",
              "      <td>1</td>\n",
              "    </tr>\n",
              "    <tr>\n",
              "      <th>2</th>\n",
              "      <td>1.036204</td>\n",
              "      <td>0.770493</td>\n",
              "      <td>0.188191</td>\n",
              "      <td>-0.480384</td>\n",
              "      <td>0.459265</td>\n",
              "      <td>-0.421247</td>\n",
              "      <td>-0.903930</td>\n",
              "      <td>2</td>\n",
              "    </tr>\n",
              "    <tr>\n",
              "      <th>3</th>\n",
              "      <td>0.498728</td>\n",
              "      <td>0.252849</td>\n",
              "      <td>-1.317852</td>\n",
              "      <td>-0.191879</td>\n",
              "      <td>-1.242965</td>\n",
              "      <td>-0.213220</td>\n",
              "      <td>-0.062552</td>\n",
              "      <td>3</td>\n",
              "    </tr>\n",
              "    <tr>\n",
              "      <th>4</th>\n",
              "      <td>-0.533724</td>\n",
              "      <td>-1.528849</td>\n",
              "      <td>0.450187</td>\n",
              "      <td>-0.458389</td>\n",
              "      <td>0.524575</td>\n",
              "      <td>-0.480897</td>\n",
              "      <td>1.366503</td>\n",
              "      <td>4</td>\n",
              "    </tr>\n",
              "    <tr>\n",
              "      <th>5</th>\n",
              "      <td>1.299690</td>\n",
              "      <td>1.195848</td>\n",
              "      <td>0.466151</td>\n",
              "      <td>1.654076</td>\n",
              "      <td>0.529522</td>\n",
              "      <td>1.717885</td>\n",
              "      <td>-0.964793</td>\n",
              "      <td>5</td>\n",
              "    </tr>\n",
              "    <tr>\n",
              "      <th>6</th>\n",
              "      <td>-0.980040</td>\n",
              "      <td>0.237590</td>\n",
              "      <td>0.272275</td>\n",
              "      <td>-0.751652</td>\n",
              "      <td>0.366500</td>\n",
              "      <td>-0.763826</td>\n",
              "      <td>-0.254532</td>\n",
              "      <td>6</td>\n",
              "    </tr>\n",
              "    <tr>\n",
              "      <th>7</th>\n",
              "      <td>-0.686377</td>\n",
              "      <td>-0.307380</td>\n",
              "      <td>0.571402</td>\n",
              "      <td>1.886745</td>\n",
              "      <td>0.608662</td>\n",
              "      <td>1.861453</td>\n",
              "      <td>0.493527</td>\n",
              "      <td>7</td>\n",
              "    </tr>\n",
              "    <tr>\n",
              "      <th>8</th>\n",
              "      <td>-0.052435</td>\n",
              "      <td>0.628955</td>\n",
              "      <td>2.224066</td>\n",
              "      <td>-0.735122</td>\n",
              "      <td>-1.812034</td>\n",
              "      <td>-0.650517</td>\n",
              "      <td>-0.523488</td>\n",
              "      <td>8</td>\n",
              "    </tr>\n",
              "    <tr>\n",
              "      <th>9</th>\n",
              "      <td>-0.361857</td>\n",
              "      <td>0.710423</td>\n",
              "      <td>1.641072</td>\n",
              "      <td>-0.546088</td>\n",
              "      <td>1.877219</td>\n",
              "      <td>-0.473594</td>\n",
              "      <td>-0.518311</td>\n",
              "      <td>9</td>\n",
              "    </tr>\n",
              "    <tr>\n",
              "      <th>10</th>\n",
              "      <td>-1.025720</td>\n",
              "      <td>-0.033132</td>\n",
              "      <td>-1.277455</td>\n",
              "      <td>-0.438672</td>\n",
              "      <td>-1.159699</td>\n",
              "      <td>-0.464366</td>\n",
              "      <td>-0.143187</td>\n",
              "      <td>10</td>\n",
              "    </tr>\n",
              "    <tr>\n",
              "      <th>11</th>\n",
              "      <td>1.343223</td>\n",
              "      <td>0.953044</td>\n",
              "      <td>-1.398921</td>\n",
              "      <td>-0.419794</td>\n",
              "      <td>-1.437618</td>\n",
              "      <td>-0.535515</td>\n",
              "      <td>-1.401987</td>\n",
              "      <td>11</td>\n",
              "    </tr>\n",
              "  </tbody>\n",
              "</table>\n",
              "</div>"
            ],
            "text/plain": [
              "    air_pressure  air_temp  ...  relative_humidity  prediction\n",
              "0      -0.384987 -1.613191  ...           1.485909           0\n",
              "1      -0.300375  0.166924  ...           0.188092           1\n",
              "2       1.036204  0.770493  ...          -0.903930           2\n",
              "3       0.498728  0.252849  ...          -0.062552           3\n",
              "4      -0.533724 -1.528849  ...           1.366503           4\n",
              "5       1.299690  1.195848  ...          -0.964793           5\n",
              "6      -0.980040  0.237590  ...          -0.254532           6\n",
              "7      -0.686377 -0.307380  ...           0.493527           7\n",
              "8      -0.052435  0.628955  ...          -0.523488           8\n",
              "9      -0.361857  0.710423  ...          -0.518311           9\n",
              "10     -1.025720 -0.033132  ...          -0.143187          10\n",
              "11      1.343223  0.953044  ...          -1.401987          11\n",
              "\n",
              "[12 rows x 8 columns]"
            ]
          },
          "metadata": {
            "tags": []
          },
          "execution_count": 48
        }
      ]
    }
  ]
}